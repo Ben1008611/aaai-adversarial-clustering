{
 "cells": [
  {
   "cell_type": "code",
   "execution_count": 1,
   "metadata": {},
   "outputs": [],
   "source": [
    "from sklearn import datasets\n",
    "import numpy as np\n",
    "import matplotlib.pyplot as plt\n",
    "from sklearn.cluster import KMeans\n",
    "from numpy import linalg\n",
    "#from scipy import optimize\n",
    "import blackbox as bb"
   ]
  },
  {
   "cell_type": "code",
   "execution_count": 2,
   "metadata": {},
   "outputs": [],
   "source": [
    "plotting_on = 1\n",
    "mask_plotting = 1\n",
    "cluster_size = 2\n",
    "noise_threshold = 10.0\n",
    "#S = 20\n",
    "S = 1\n",
    "\n",
    "#sample_size = 5000\n",
    "#sample_size = 1200\n",
    "#sample_size = 50\n",
    "#sample_size = 200\n",
    "#sample_size = 50\n",
    "sample_size = 50\n",
    "cluster_size = 2\n",
    "\n",
    "spill_over = False\n",
    "spill_over_idx = []"
   ]
  },
  {
   "cell_type": "code",
   "execution_count": 3,
   "metadata": {},
   "outputs": [],
   "source": [
    "def plot_clusters(X, labels):\n",
    "    chosen_pts_cluster_label = []\n",
    "    for idx, label in enumerate(labels):\n",
    "        if label == 0:\n",
    "            if plotting_on:\n",
    "                plt.scatter(X[idx,0], X[idx,1], color = 'blue')\n",
    "\n",
    "        if label == 1:\n",
    "            if plotting_on:\n",
    "                plt.scatter(X[idx,0], X[idx,1], color = 'red')\n",
    "\n",
    "        if mask[idx] == 1:\n",
    "            chosen_pts_cluster_label.append(label)\n",
    "            if plotting_on and mask_plotting:\n",
    "                plt.scatter(X[idx,0], X[idx,1], color = 'green')\n",
    "                \n",
    "        if spill_over:\n",
    "            if plotting_on:\n",
    "                for i in spill_over_idx:\n",
    "                    plt.scatter(X[i,0], X[i,1], color = 'orange')\n",
    "\n",
    "    if plotting_on:\n",
    "        plt.show()\n",
    "    return chosen_pts_cluster_label\n",
    "\n",
    "def get_Y(labels,n_samples, n_clusters):\n",
    "    Y = np.zeros([n_samples, n_clusters])\n",
    "    for idx, label in enumerate(labels):\n",
    "        Y[idx, label] = 1\n",
    "    return Y\n",
    "\n",
    "def run_kmeans(n_clusters, X):\n",
    "    kmeans = KMeans(n_clusters = n_clusters, random_state=42)\n",
    "    labels = kmeans.fit_predict(X)\n",
    "    centers = kmeans.cluster_centers_\n",
    "    \n",
    "    temp = np.copy(labels)\n",
    "    temp_c = np.copy(centers)\n",
    "    if np.sum(centers[0,:]) > np.sum(centers[1,:]):\n",
    "        return (labels, centers) \n",
    "    else:\n",
    "        labels[temp == 0] = 1\n",
    "        labels[temp == 1] = 0\n",
    "        centers[1,:] = temp_c[0,:]\n",
    "        centers[0,:] = temp_c[1,:]\n",
    "        return (labels, centers)\n",
    "    \n",
    "def add_noise(X,noise):\n",
    "    for i,(m,_) in enumerate(zip(mask,X)):\n",
    "        if m != 0:\n",
    "            X[i,:] = X[i,:] + noise\n",
    "    return X\n",
    "\n",
    "def get_dist(Y,Y_dash):\n",
    "    dist = linalg.norm(np.matmul(Y,Y.T) - np.matmul(Y_dash,Y_dash.T))\n",
    "    return dist"
   ]
  },
  {
   "cell_type": "code",
   "execution_count": 4,
   "metadata": {},
   "outputs": [
    {
     "data": {
      "image/png": "[encoded data removed]",
      "text/plain": [
       "<matplotlib.figure.Figure at 0x7fd4a4127310>"
      ]
     },
     "metadata": {},
     "output_type": "display_data"
    },
    {
     "data": {
      "text/plain": [
       "[1]"
      ]
     },
     "execution_count": 4,
     "metadata": {},
     "output_type": "execute_result"
    }
   ],
   "source": [
    "#data = datasets.make_blobs(n_samples=sample_size, cluster_std=[1,1], random_state=170, centers = [[1,0],[4,0]])\n",
    "data = datasets.make_blobs(n_samples=sample_size, cluster_std=[1.95,1.3], random_state=170, centers = [[1,0],[5,0]])\n",
    "X = data[0]\n",
    "y = data[1]\n",
    "###### 12 and 18 -<>- 1,0 21,0 200 == n1 + n2 and 20 = S\n",
    "#1.3,2.6 1.9,2.6 #2.3,3 2.5,3.2 #3.2,4 #6.2 8\n",
    "mask = np.zeros((sample_size))\n",
    "n_features = X.shape[1]\n",
    "\n",
    "X_org = np.copy(X)\n",
    "\n",
    "kmeans_d = KMeans(n_clusters = cluster_size, random_state=42)\n",
    "labels_d = kmeans_d.fit_predict(X)    \n",
    "centers_d = kmeans_d.cluster_centers_\n",
    "\n",
    "temp_d = np.copy(labels_d)\n",
    "temp_c_d = np.copy(centers_d)\n",
    "if np.sum(centers_d[0,:]) < np.sum(centers_d[1,:]):\n",
    "    labels_d[temp_d == 0] = 1\n",
    "    labels_d[temp_d == 1] = 0\n",
    "    centers_d[1,:] = temp_c_d[0,:]\n",
    "    centers_d[0,:] = temp_c_d[1,:]\n",
    "\n",
    "best_vals = []\n",
    "for idx,label in enumerate(labels_d):\n",
    "    if label == 1:\n",
    "        best_vals.append(linalg.norm(X[idx,:] - centers_d[0,:]))\n",
    "    else:\n",
    "        best_vals.append(1000000)\n",
    "\n",
    "best_vals = np.array(best_vals)\n",
    "best_vals_idx = np.argsort(best_vals)\n",
    "\n",
    "count = 0\n",
    "mask_idx = -1\n",
    "for idx in range(0,sample_size):\n",
    "    if idx in best_vals_idx[:S]:\n",
    "        mask[idx] = 1\n",
    "        count+=1\n",
    "        mask_idx = idx\n",
    "\n",
    "plot_clusters(X, labels_d)"
   ]
  },
  {
   "cell_type": "code",
   "execution_count": 5,
   "metadata": {},
   "outputs": [
    {
     "name": "stdout",
     "output_type": "stream",
     "text": [
      "1\n",
      "2.282602708181924\n",
      "2.028646922474312\n",
      "(22, 28)\n"
     ]
    }
   ],
   "source": [
    "print(labels_d[mask_idx])\n",
    "dist_center0 = 0\n",
    "dist_center1 = 0\n",
    "cluster0_size = 0\n",
    "cluster1_size = 0\n",
    "for i,x in enumerate(X):\n",
    "    if mask[i] == 1:\n",
    "        dist_center0 += linalg.norm(X[mask_idx] - centers_d[0,:]) \n",
    "        dist_center1 += linalg.norm(X[mask_idx] - centers_d[1,:])\n",
    "    if labels_d[i] == 0:\n",
    "        cluster0_size += 1\n",
    "    if labels_d[i] == 1:\n",
    "        cluster1_size += 1\n",
    "print(dist_center0)\n",
    "print(dist_center1)\n",
    "print(cluster0_size, cluster1_size)"
   ]
  },
  {
   "cell_type": "code",
   "execution_count": 7,
   "metadata": {},
   "outputs": [
    {
     "name": "stdout",
     "output_type": "stream",
     "text": [
      "7.446049379987732\n"
     ]
    }
   ],
   "source": [
    "print(np.inner((X[mask_idx] - centers_d[1,:]), centers_d[0,:] - centers_d[1,:]))"
   ]
  },
  {
   "cell_type": "code",
   "execution_count": 8,
   "metadata": {},
   "outputs": [],
   "source": [
    "def f(x):\n",
    "    success = 0.0\n",
    "    noise = np.array(x)\n",
    "    (labels, centers) = run_kmeans(cluster_size, X_org)\n",
    "    org_label = labels[mask_idx]\n",
    "    Y = get_Y(labels, sample_size, cluster_size)\n",
    "    X_noisy = np.copy(X_org)\n",
    "    X_noisy  = add_noise(X_noisy, noise)\n",
    "    (labels_dash, centers_dash) = run_kmeans(cluster_size, X_noisy)\n",
    "    noisy_label = labels_dash[mask_idx]\n",
    "    Y_dash = get_Y(labels_dash, sample_size, cluster_size)  \n",
    "    dist = get_dist(Y,Y_dash)\n",
    "    \n",
    "    if dist != 0.0:\n",
    "        return -dist\n",
    "    else:\n",
    "        return 1000000.0"
   ]
  },
  {
   "cell_type": "code",
   "execution_count": 9,
   "metadata": {},
   "outputs": [],
   "source": [
    "bb.search(f=f,  # given function\n",
    "          box=[[-3.5, 3.5], [-3.5, 3.5]],  # range of values for each parameter (2D case)\n",
    "          n=50,  # number of function calls on initial stage (global search)\n",
    "          m=50,  # number of function calls on subsequent stage (local search)\n",
    "          batch=4,  # number of calls that will be evaluated in parallel\n",
    "          resfile='output.csv')  # text file where results will be saved"
   ]
  },
  {
   "cell_type": "code",
   "execution_count": 10,
   "metadata": {},
   "outputs": [
    {
     "data": {
      "image/png": "[encoded data removed]",
      "text/plain": [
       "<matplotlib.figure.Figure at 0x7fd4a4392a50>"
      ]
     },
     "metadata": {},
     "output_type": "display_data"
    },
    {
     "data": {
      "text/plain": [
       "[0]"
      ]
     },
     "execution_count": 10,
     "metadata": {},
     "output_type": "execute_result"
    }
   ],
   "source": [
    "spill_over_idx = []\n",
    "best_noise = np.array([-7.5984e-01, -3.3224e+00])\n",
    "X_adv = np.copy(X_org)\n",
    "X_adv = add_noise(X_adv, best_noise)\n",
    "#print(mask_idx)\n",
    "\n",
    "Xo = np.copy(X_org)\n",
    "Xa = np.copy(X_adv)\n",
    "\n",
    "lo,_ = run_kmeans(2, Xo)\n",
    "la,_ = run_kmeans(2, Xa)\n",
    "\n",
    "plot_clusters(Xa, la)"
   ]
  },
  {
   "cell_type": "code",
   "execution_count": 11,
   "metadata": {},
   "outputs": [
    {
     "name": "stdout",
     "output_type": "stream",
     "text": [
      "(1, 0)\n",
      "9\n"
     ]
    },
    {
     "data": {
      "image/png": "[encoded data removed]",
      "text/plain": [
       "<matplotlib.figure.Figure at 0x7fd4bb3c6390>"
      ]
     },
     "metadata": {},
     "output_type": "display_data"
    },
    {
     "data": {
      "text/plain": [
       "[0]"
      ]
     },
     "execution_count": 11,
     "metadata": {},
     "output_type": "execute_result"
    }
   ],
   "source": [
    "print(lo[mask_idx],la[mask_idx])\n",
    "count_diffs = 0\n",
    "perturbed_idx = []\n",
    "\n",
    "for idx,(el1, el2) in enumerate(zip(lo,la)):\n",
    "    if el1 != el2:\n",
    "        count_diffs += 1\n",
    "        perturbed_idx.append(idx)\n",
    "        if mask[idx] != 1:\n",
    "            spill_over = True\n",
    "            spill_over_idx.append(idx)\n",
    "print(count_diffs)\n",
    "\n",
    "plot_clusters(Xa, la)"
   ]
  },
  {
   "cell_type": "code",
   "execution_count": 12,
   "metadata": {},
   "outputs": [
    {
     "name": "stdout",
     "output_type": "stream",
     "text": [
      "2.510710018665627\n",
      "3.9827670680765\n",
      "3.2841621942798223\n",
      "2.501455580331341\n",
      "2.926854845660711\n",
      "5.032487285144285\n",
      "4.406660338106737\n",
      "4.603434195468941\n"
     ]
    }
   ],
   "source": [
    "for idx in spill_over_idx:\n",
    "    print(np.inner((X[mask_idx] - centers_d[1,:]),(X[idx] - centers_d[1,:])))"
   ]
  }
 ],
 "metadata": {
  "kernelspec": {
   "display_name": "Python 2",
   "language": "python",
   "name": "python2"
  },
  "language_info": {
   "codemirror_mode": {
    "name": "ipython",
    "version": 2
   },
   "file_extension": ".py",
   "mimetype": "text/x-python",
   "name": "python",
   "nbconvert_exporter": "python",
   "pygments_lexer": "ipython2",
   "version": "2.7.12"
  }
 },
 "nbformat": 4,
 "nbformat_minor": 2
}
